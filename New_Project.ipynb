{
  "cells": [
    {
      "cell_type": "code",
      "execution_count": 1,
      "metadata": {
        "id": "ydLPhmEA7fvL"
      },
      "outputs": [],
      "source": [
        "import pandas as pd\n",
        "data = pd.read_csv('project.csv')"
      ]
    },
    {
      "cell_type": "code",
      "execution_count": 2,
      "metadata": {
        "id": "PTV8A9ZQ7sAw"
      },
      "outputs": [],
      "source": [
        "import numpy as np\n",
        "from matplotlib import pyplot as plt"
      ]
    },
    {
      "cell_type": "code",
      "execution_count": 3,
      "metadata": {
        "colab": {
          "base_uri": "https://localhost:8080/"
        },
        "id": "fv-aGCsD7uB1",
        "outputId": "9656a0bd-5a0d-4809-a702-3de2a9cc0cdf"
      },
      "outputs": [
        {
          "data": {
            "text/plain": [
              "Index(['id', 'log_price', 'property_type', 'room_type', 'amenities',\n",
              "       'accommodates', 'bathrooms', 'bed_type', 'cancellation_policy',\n",
              "       'cleaning_fee', 'city', 'description', 'first_review',\n",
              "       'host_has_profile_pic', 'host_identity_verified', 'host_response_rate',\n",
              "       'host_since', 'instant_bookable', 'last_review', 'latitude',\n",
              "       'longitude', 'name', 'neighbourhood', 'number_of_reviews',\n",
              "       'review_scores_rating', 'thumbnail_url', 'zipcode', 'bedrooms', 'beds'],\n",
              "      dtype='object')"
            ]
          },
          "execution_count": 3,
          "metadata": {},
          "output_type": "execute_result"
        }
      ],
      "source": [
        "data.columns"
      ]
    },
    {
      "cell_type": "code",
      "execution_count": 4,
      "metadata": {
        "colab": {
          "base_uri": "https://localhost:8080/"
        },
        "id": "_ejAiUqr7u9t",
        "outputId": "5bfd28b1-b2c8-4793-ecce-80593ba7cb28"
      },
      "outputs": [
        {
          "data": {
            "text/plain": [
              "property_type\n",
              "Apartment          49003\n",
              "Bed & Breakfast      462\n",
              "Boat                  65\n",
              "Boutique hotel        69\n",
              "Bungalow             366\n",
              "Cabin                 72\n",
              "Camper/RV             94\n",
              "Condominium         2658\n",
              "Dorm                 142\n",
              "Guest suite          123\n",
              "Guesthouse           498\n",
              "Hostel                70\n",
              "House              16511\n",
              "In-law                71\n",
              "Loft                1244\n",
              "Other                607\n",
              "Timeshare             77\n",
              "Townhouse           1692\n",
              "Villa                179\n",
              "Name: property_type, dtype: int64"
            ]
          },
          "execution_count": 4,
          "metadata": {},
          "output_type": "execute_result"
        }
      ],
      "source": [
        "data.groupby('property_type')['property_type'].agg('count')"
      ]
    },
    {
      "cell_type": "code",
      "execution_count": 5,
      "metadata": {
        "colab": {
          "base_uri": "https://localhost:8080/"
        },
        "id": "RUvMrI4S750c",
        "outputId": "4cb2e855-0c2e-4436-8a38-bcc0dbe9a12d"
      },
      "outputs": [
        {
          "data": {
            "text/plain": [
              "bed_type\n",
              "Airbed             471\n",
              "Couch              267\n",
              "Futon              751\n",
              "Pull-out Sofa      583\n",
              "Real Bed         71931\n",
              "Name: bed_type, dtype: int64"
            ]
          },
          "execution_count": 5,
          "metadata": {},
          "output_type": "execute_result"
        }
      ],
      "source": [
        "data.groupby('bed_type')['bed_type'].agg('count')"
      ]
    },
    {
      "cell_type": "code",
      "execution_count": 6,
      "metadata": {
        "colab": {
          "base_uri": "https://localhost:8080/"
        },
        "id": "XLwdLyaFeErg",
        "outputId": "950824b1-2bc1-4459-e4e0-db6f4af88f29"
      },
      "outputs": [
        {
          "data": {
            "text/plain": [
              "room_type\n",
              "Entire home/apt    41246\n",
              "Private room       30597\n",
              "Shared room         2160\n",
              "Name: room_type, dtype: int64"
            ]
          },
          "execution_count": 6,
          "metadata": {},
          "output_type": "execute_result"
        }
      ],
      "source": [
        "data.groupby('room_type')['room_type'].agg('count')"
      ]
    },
    {
      "cell_type": "code",
      "execution_count": 7,
      "metadata": {
        "colab": {
          "base_uri": "https://localhost:8080/"
        },
        "id": "Lwv7Lp3f79OI",
        "outputId": "8eef3b05-309f-4f4d-b839-0d7f247203e1"
      },
      "outputs": [
        {
          "data": {
            "text/plain": [
              "cancellation_policy\n",
              "flexible    22509\n",
              "moderate    19037\n",
              "strict      32457\n",
              "Name: cancellation_policy, dtype: int64"
            ]
          },
          "execution_count": 7,
          "metadata": {},
          "output_type": "execute_result"
        }
      ],
      "source": [
        "data.groupby('cancellation_policy')['cancellation_policy'].agg('count')"
      ]
    },
    {
      "cell_type": "code",
      "execution_count": 8,
      "metadata": {
        "colab": {
          "base_uri": "https://localhost:8080/"
        },
        "id": "RI543dtA8Gw4",
        "outputId": "1dacf1e1-c15e-4804-92db-1eeb90dd7710"
      },
      "outputs": [
        {
          "data": {
            "text/plain": [
              "city\n",
              "Boston      3467\n",
              "Chicago     3718\n",
              "DC          5684\n",
              "LA         22382\n",
              "NYC        32328\n",
              "SF          6424\n",
              "Name: city, dtype: int64"
            ]
          },
          "execution_count": 8,
          "metadata": {},
          "output_type": "execute_result"
        }
      ],
      "source": [
        "data.groupby('city')['city'].agg('count')"
      ]
    },
    {
      "cell_type": "code",
      "execution_count": 9,
      "metadata": {
        "colab": {
          "base_uri": "https://localhost:8080/"
        },
        "id": "g8i6dkVA8J35",
        "outputId": "31220939-53e9-4a63-e987-ec91eb7c820f"
      },
      "outputs": [
        {
          "name": "stdout",
          "output_type": "stream",
          "text": [
            "<class 'pandas.core.frame.DataFrame'>\n",
            "RangeIndex: 74003 entries, 0 to 74002\n",
            "Data columns (total 12 columns):\n",
            " #   Column               Non-Null Count  Dtype  \n",
            "---  ------               --------------  -----  \n",
            " 0   log_price            74003 non-null  float64\n",
            " 1   property_type        74003 non-null  object \n",
            " 2   room_type            74003 non-null  object \n",
            " 3   accommodates         74003 non-null  int64  \n",
            " 4   bathrooms            73804 non-null  float64\n",
            " 5   bed_type             74003 non-null  object \n",
            " 6   cancellation_policy  74003 non-null  object \n",
            " 7   cleaning_fee         74003 non-null  bool   \n",
            " 8   city                 74003 non-null  object \n",
            " 9   instant_bookable     74003 non-null  object \n",
            " 10  bedrooms             73912 non-null  float64\n",
            " 11  beds                 73872 non-null  float64\n",
            "dtypes: bool(1), float64(4), int64(1), object(6)\n",
            "memory usage: 6.3+ MB\n"
          ]
        }
      ],
      "source": [
        "df1 = data.drop(['id','amenities','description','first_review', 'host_has_profile_pic','host_since', 'name',\n",
        "                 'last_review', 'latitude', 'longitude', 'number_of_reviews','thumbnail_url', 'neighbourhood', \n",
        "                 'host_identity_verified','zipcode','host_response_rate', 'review_scores_rating'],axis = 'columns')\n",
        "df1.info()"
      ]
    },
    {
      "cell_type": "code",
      "execution_count": 10,
      "metadata": {
        "colab": {
          "base_uri": "https://localhost:8080/"
        },
        "id": "G5_ewOQz8NNc",
        "outputId": "3722dddc-3b92-4ba7-8268-b3016ea57efa"
      },
      "outputs": [
        {
          "data": {
            "text/plain": [
              "log_price                0\n",
              "property_type            0\n",
              "room_type                0\n",
              "accommodates             0\n",
              "bathrooms              199\n",
              "bed_type                 0\n",
              "cancellation_policy      0\n",
              "cleaning_fee             0\n",
              "city                     0\n",
              "instant_bookable         0\n",
              "bedrooms                91\n",
              "beds                   131\n",
              "dtype: int64"
            ]
          },
          "execution_count": 10,
          "metadata": {},
          "output_type": "execute_result"
        }
      ],
      "source": [
        "df1.isnull().sum()"
      ]
    },
    {
      "cell_type": "code",
      "execution_count": 11,
      "metadata": {
        "colab": {
          "base_uri": "https://localhost:8080/"
        },
        "id": "zFNIsU-x8Wu3",
        "outputId": "a2d6a2f3-a376-45fa-9dd7-ae0f015135e4"
      },
      "outputs": [
        {
          "data": {
            "text/plain": [
              "log_price              0\n",
              "property_type          0\n",
              "room_type              0\n",
              "accommodates           0\n",
              "bathrooms              0\n",
              "bed_type               0\n",
              "cancellation_policy    0\n",
              "cleaning_fee           0\n",
              "city                   0\n",
              "instant_bookable       0\n",
              "bedrooms               0\n",
              "beds                   0\n",
              "dtype: int64"
            ]
          },
          "execution_count": 11,
          "metadata": {},
          "output_type": "execute_result"
        }
      ],
      "source": [
        "df2 = df1.dropna()\n",
        "df2.isnull().sum()"
      ]
    },
    {
      "cell_type": "code",
      "execution_count": 12,
      "metadata": {
        "colab": {
          "base_uri": "https://localhost:8080/"
        },
        "id": "IvgMXBcf8ZG-",
        "outputId": "55f3fe2e-bc1e-46de-8f7d-6d2b069bec70"
      },
      "outputs": [
        {
          "name": "stdout",
          "output_type": "stream",
          "text": [
            "<class 'pandas.core.frame.DataFrame'>\n",
            "Index: 73659 entries, 0 to 74002\n",
            "Data columns (total 12 columns):\n",
            " #   Column               Non-Null Count  Dtype  \n",
            "---  ------               --------------  -----  \n",
            " 0   log_price            73659 non-null  float64\n",
            " 1   property_type        73659 non-null  object \n",
            " 2   room_type            73659 non-null  object \n",
            " 3   accommodates         73659 non-null  int64  \n",
            " 4   bathrooms            73659 non-null  float64\n",
            " 5   bed_type             73659 non-null  object \n",
            " 6   cancellation_policy  73659 non-null  object \n",
            " 7   cleaning_fee         73659 non-null  bool   \n",
            " 8   city                 73659 non-null  object \n",
            " 9   instant_bookable     73659 non-null  object \n",
            " 10  bedrooms             73659 non-null  float64\n",
            " 11  beds                 73659 non-null  float64\n",
            "dtypes: bool(1), float64(4), int64(1), object(6)\n",
            "memory usage: 6.8+ MB\n"
          ]
        }
      ],
      "source": [
        "df2.info()"
      ]
    },
    {
      "cell_type": "code",
      "execution_count": 13,
      "metadata": {
        "colab": {
          "base_uri": "https://localhost:8080/"
        },
        "id": "63MMyZKW8b_J",
        "outputId": "45ed9cb3-4cdc-484c-e810-af178542689f"
      },
      "outputs": [
        {
          "name": "stderr",
          "output_type": "stream",
          "text": [
            "C:\\Users\\Computer World\\AppData\\Local\\Temp\\ipykernel_16572\\4037507724.py:5: SettingWithCopyWarning: \n",
            "A value is trying to be set on a copy of a slice from a DataFrame.\n",
            "Try using .loc[row_indexer,col_indexer] = value instead\n",
            "\n",
            "See the caveats in the documentation: https://pandas.pydata.org/pandas-docs/stable/user_guide/indexing.html#returning-a-view-versus-a-copy\n",
            "  df2[column] = df2[column].map({'t': 1, 'f': 0})\n"
          ]
        }
      ],
      "source": [
        "boolean_columns = ['instant_bookable']\n",
        "\n",
        "# Convert 't' and 'f' to boolean values for each column\n",
        "for column in boolean_columns:\n",
        "  df2[column] = df2[column].map({'t': 1, 'f': 0})\n"
      ]
    },
    {
      "cell_type": "code",
      "execution_count": 14,
      "metadata": {
        "colab": {
          "base_uri": "https://localhost:8080/"
        },
        "id": "u3ZUgIkM8iQp",
        "outputId": "2461fec2-8434-4dbd-cac7-f25e95646a34"
      },
      "outputs": [
        {
          "data": {
            "text/plain": [
              "Index(['log_price', 'property_type', 'room_type', 'accommodates', 'bathrooms',\n",
              "       'bed_type', 'cancellation_policy', 'cleaning_fee', 'city',\n",
              "       'instant_bookable', 'bedrooms', 'beds'],\n",
              "      dtype='object')"
            ]
          },
          "execution_count": 14,
          "metadata": {},
          "output_type": "execute_result"
        }
      ],
      "source": [
        "df2.columns"
      ]
    },
    {
      "cell_type": "code",
      "execution_count": 15,
      "metadata": {
        "colab": {
          "base_uri": "https://localhost:8080/",
          "height": 1000
        },
        "id": "gzZ22AuQdKlJ",
        "outputId": "b2e67eac-5d49-43fc-cbe7-fbc325292646"
      },
      "outputs": [
        {
          "data": {
            "text/html": [
              "<div>\n",
              "<style scoped>\n",
              "    .dataframe tbody tr th:only-of-type {\n",
              "        vertical-align: middle;\n",
              "    }\n",
              "\n",
              "    .dataframe tbody tr th {\n",
              "        vertical-align: top;\n",
              "    }\n",
              "\n",
              "    .dataframe thead th {\n",
              "        text-align: right;\n",
              "    }\n",
              "</style>\n",
              "<table border=\"1\" class=\"dataframe\">\n",
              "  <thead>\n",
              "    <tr style=\"text-align: right;\">\n",
              "      <th></th>\n",
              "      <th>log_price</th>\n",
              "      <th>property_type</th>\n",
              "      <th>room_type</th>\n",
              "      <th>accommodates</th>\n",
              "      <th>bathrooms</th>\n",
              "      <th>bed_type</th>\n",
              "      <th>cancellation_policy</th>\n",
              "      <th>cleaning_fee</th>\n",
              "      <th>city</th>\n",
              "      <th>instant_bookable</th>\n",
              "      <th>bedrooms</th>\n",
              "      <th>beds</th>\n",
              "    </tr>\n",
              "  </thead>\n",
              "  <tbody>\n",
              "    <tr>\n",
              "      <th>0</th>\n",
              "      <td>5.010635</td>\n",
              "      <td>Apartment</td>\n",
              "      <td>Entire home/apt</td>\n",
              "      <td>3</td>\n",
              "      <td>1.0</td>\n",
              "      <td>Real Bed</td>\n",
              "      <td>strict</td>\n",
              "      <td>True</td>\n",
              "      <td>NYC</td>\n",
              "      <td>0</td>\n",
              "      <td>1.0</td>\n",
              "      <td>1.0</td>\n",
              "    </tr>\n",
              "    <tr>\n",
              "      <th>1</th>\n",
              "      <td>5.129899</td>\n",
              "      <td>Apartment</td>\n",
              "      <td>Entire home/apt</td>\n",
              "      <td>7</td>\n",
              "      <td>1.0</td>\n",
              "      <td>Real Bed</td>\n",
              "      <td>strict</td>\n",
              "      <td>True</td>\n",
              "      <td>NYC</td>\n",
              "      <td>1</td>\n",
              "      <td>3.0</td>\n",
              "      <td>3.0</td>\n",
              "    </tr>\n",
              "    <tr>\n",
              "      <th>2</th>\n",
              "      <td>4.976734</td>\n",
              "      <td>Apartment</td>\n",
              "      <td>Entire home/apt</td>\n",
              "      <td>5</td>\n",
              "      <td>1.0</td>\n",
              "      <td>Real Bed</td>\n",
              "      <td>moderate</td>\n",
              "      <td>True</td>\n",
              "      <td>NYC</td>\n",
              "      <td>1</td>\n",
              "      <td>1.0</td>\n",
              "      <td>3.0</td>\n",
              "    </tr>\n",
              "    <tr>\n",
              "      <th>3</th>\n",
              "      <td>6.620073</td>\n",
              "      <td>House</td>\n",
              "      <td>Entire home/apt</td>\n",
              "      <td>4</td>\n",
              "      <td>1.0</td>\n",
              "      <td>Real Bed</td>\n",
              "      <td>flexible</td>\n",
              "      <td>True</td>\n",
              "      <td>SF</td>\n",
              "      <td>0</td>\n",
              "      <td>2.0</td>\n",
              "      <td>2.0</td>\n",
              "    </tr>\n",
              "    <tr>\n",
              "      <th>4</th>\n",
              "      <td>4.744932</td>\n",
              "      <td>Apartment</td>\n",
              "      <td>Entire home/apt</td>\n",
              "      <td>2</td>\n",
              "      <td>1.0</td>\n",
              "      <td>Real Bed</td>\n",
              "      <td>moderate</td>\n",
              "      <td>True</td>\n",
              "      <td>DC</td>\n",
              "      <td>1</td>\n",
              "      <td>0.0</td>\n",
              "      <td>1.0</td>\n",
              "    </tr>\n",
              "    <tr>\n",
              "      <th>5</th>\n",
              "      <td>4.442651</td>\n",
              "      <td>Apartment</td>\n",
              "      <td>Private room</td>\n",
              "      <td>2</td>\n",
              "      <td>1.0</td>\n",
              "      <td>Real Bed</td>\n",
              "      <td>strict</td>\n",
              "      <td>True</td>\n",
              "      <td>SF</td>\n",
              "      <td>1</td>\n",
              "      <td>1.0</td>\n",
              "      <td>1.0</td>\n",
              "    </tr>\n",
              "    <tr>\n",
              "      <th>6</th>\n",
              "      <td>4.418841</td>\n",
              "      <td>Apartment</td>\n",
              "      <td>Entire home/apt</td>\n",
              "      <td>3</td>\n",
              "      <td>1.0</td>\n",
              "      <td>Real Bed</td>\n",
              "      <td>moderate</td>\n",
              "      <td>True</td>\n",
              "      <td>LA</td>\n",
              "      <td>1</td>\n",
              "      <td>1.0</td>\n",
              "      <td>1.0</td>\n",
              "    </tr>\n",
              "    <tr>\n",
              "      <th>7</th>\n",
              "      <td>4.787492</td>\n",
              "      <td>Condominium</td>\n",
              "      <td>Entire home/apt</td>\n",
              "      <td>2</td>\n",
              "      <td>1.0</td>\n",
              "      <td>Real Bed</td>\n",
              "      <td>moderate</td>\n",
              "      <td>True</td>\n",
              "      <td>LA</td>\n",
              "      <td>0</td>\n",
              "      <td>1.0</td>\n",
              "      <td>1.0</td>\n",
              "    </tr>\n",
              "    <tr>\n",
              "      <th>8</th>\n",
              "      <td>4.787492</td>\n",
              "      <td>House</td>\n",
              "      <td>Private room</td>\n",
              "      <td>2</td>\n",
              "      <td>1.0</td>\n",
              "      <td>Real Bed</td>\n",
              "      <td>moderate</td>\n",
              "      <td>True</td>\n",
              "      <td>SF</td>\n",
              "      <td>0</td>\n",
              "      <td>1.0</td>\n",
              "      <td>1.0</td>\n",
              "    </tr>\n",
              "    <tr>\n",
              "      <th>9</th>\n",
              "      <td>3.583519</td>\n",
              "      <td>House</td>\n",
              "      <td>Private room</td>\n",
              "      <td>2</td>\n",
              "      <td>1.0</td>\n",
              "      <td>Real Bed</td>\n",
              "      <td>moderate</td>\n",
              "      <td>True</td>\n",
              "      <td>LA</td>\n",
              "      <td>1</td>\n",
              "      <td>1.0</td>\n",
              "      <td>1.0</td>\n",
              "    </tr>\n",
              "    <tr>\n",
              "      <th>10</th>\n",
              "      <td>4.605170</td>\n",
              "      <td>Apartment</td>\n",
              "      <td>Private room</td>\n",
              "      <td>2</td>\n",
              "      <td>1.0</td>\n",
              "      <td>Real Bed</td>\n",
              "      <td>strict</td>\n",
              "      <td>True</td>\n",
              "      <td>NYC</td>\n",
              "      <td>0</td>\n",
              "      <td>1.0</td>\n",
              "      <td>1.0</td>\n",
              "    </tr>\n",
              "    <tr>\n",
              "      <th>11</th>\n",
              "      <td>5.010635</td>\n",
              "      <td>House</td>\n",
              "      <td>Entire home/apt</td>\n",
              "      <td>4</td>\n",
              "      <td>1.5</td>\n",
              "      <td>Real Bed</td>\n",
              "      <td>strict</td>\n",
              "      <td>True</td>\n",
              "      <td>LA</td>\n",
              "      <td>0</td>\n",
              "      <td>2.0</td>\n",
              "      <td>2.0</td>\n",
              "    </tr>\n",
              "    <tr>\n",
              "      <th>12</th>\n",
              "      <td>4.248495</td>\n",
              "      <td>Apartment</td>\n",
              "      <td>Private room</td>\n",
              "      <td>2</td>\n",
              "      <td>1.0</td>\n",
              "      <td>Real Bed</td>\n",
              "      <td>flexible</td>\n",
              "      <td>True</td>\n",
              "      <td>LA</td>\n",
              "      <td>0</td>\n",
              "      <td>1.0</td>\n",
              "      <td>1.0</td>\n",
              "    </tr>\n",
              "    <tr>\n",
              "      <th>13</th>\n",
              "      <td>5.298317</td>\n",
              "      <td>Apartment</td>\n",
              "      <td>Entire home/apt</td>\n",
              "      <td>6</td>\n",
              "      <td>1.5</td>\n",
              "      <td>Real Bed</td>\n",
              "      <td>strict</td>\n",
              "      <td>True</td>\n",
              "      <td>DC</td>\n",
              "      <td>1</td>\n",
              "      <td>2.0</td>\n",
              "      <td>3.0</td>\n",
              "    </tr>\n",
              "    <tr>\n",
              "      <th>14</th>\n",
              "      <td>4.955827</td>\n",
              "      <td>Apartment</td>\n",
              "      <td>Entire home/apt</td>\n",
              "      <td>2</td>\n",
              "      <td>1.0</td>\n",
              "      <td>Real Bed</td>\n",
              "      <td>strict</td>\n",
              "      <td>True</td>\n",
              "      <td>LA</td>\n",
              "      <td>0</td>\n",
              "      <td>1.0</td>\n",
              "      <td>1.0</td>\n",
              "    </tr>\n",
              "    <tr>\n",
              "      <th>15</th>\n",
              "      <td>4.094345</td>\n",
              "      <td>Apartment</td>\n",
              "      <td>Private room</td>\n",
              "      <td>2</td>\n",
              "      <td>1.5</td>\n",
              "      <td>Real Bed</td>\n",
              "      <td>moderate</td>\n",
              "      <td>True</td>\n",
              "      <td>Chicago</td>\n",
              "      <td>0</td>\n",
              "      <td>1.0</td>\n",
              "      <td>1.0</td>\n",
              "    </tr>\n",
              "    <tr>\n",
              "      <th>16</th>\n",
              "      <td>4.317488</td>\n",
              "      <td>Loft</td>\n",
              "      <td>Private room</td>\n",
              "      <td>2</td>\n",
              "      <td>1.0</td>\n",
              "      <td>Real Bed</td>\n",
              "      <td>strict</td>\n",
              "      <td>False</td>\n",
              "      <td>Chicago</td>\n",
              "      <td>0</td>\n",
              "      <td>1.0</td>\n",
              "      <td>1.0</td>\n",
              "    </tr>\n",
              "    <tr>\n",
              "      <th>17</th>\n",
              "      <td>4.595120</td>\n",
              "      <td>Townhouse</td>\n",
              "      <td>Private room</td>\n",
              "      <td>2</td>\n",
              "      <td>2.0</td>\n",
              "      <td>Real Bed</td>\n",
              "      <td>strict</td>\n",
              "      <td>True</td>\n",
              "      <td>Boston</td>\n",
              "      <td>0</td>\n",
              "      <td>1.0</td>\n",
              "      <td>1.0</td>\n",
              "    </tr>\n",
              "    <tr>\n",
              "      <th>18</th>\n",
              "      <td>4.882802</td>\n",
              "      <td>Apartment</td>\n",
              "      <td>Entire home/apt</td>\n",
              "      <td>2</td>\n",
              "      <td>1.0</td>\n",
              "      <td>Real Bed</td>\n",
              "      <td>strict</td>\n",
              "      <td>True</td>\n",
              "      <td>NYC</td>\n",
              "      <td>0</td>\n",
              "      <td>1.0</td>\n",
              "      <td>2.0</td>\n",
              "    </tr>\n",
              "    <tr>\n",
              "      <th>19</th>\n",
              "      <td>4.595120</td>\n",
              "      <td>House</td>\n",
              "      <td>Entire home/apt</td>\n",
              "      <td>8</td>\n",
              "      <td>1.0</td>\n",
              "      <td>Real Bed</td>\n",
              "      <td>strict</td>\n",
              "      <td>True</td>\n",
              "      <td>NYC</td>\n",
              "      <td>1</td>\n",
              "      <td>3.0</td>\n",
              "      <td>3.0</td>\n",
              "    </tr>\n",
              "  </tbody>\n",
              "</table>\n",
              "</div>"
            ],
            "text/plain": [
              "    log_price property_type        room_type  accommodates  bathrooms  \\\n",
              "0    5.010635     Apartment  Entire home/apt             3        1.0   \n",
              "1    5.129899     Apartment  Entire home/apt             7        1.0   \n",
              "2    4.976734     Apartment  Entire home/apt             5        1.0   \n",
              "3    6.620073         House  Entire home/apt             4        1.0   \n",
              "4    4.744932     Apartment  Entire home/apt             2        1.0   \n",
              "5    4.442651     Apartment     Private room             2        1.0   \n",
              "6    4.418841     Apartment  Entire home/apt             3        1.0   \n",
              "7    4.787492   Condominium  Entire home/apt             2        1.0   \n",
              "8    4.787492         House     Private room             2        1.0   \n",
              "9    3.583519         House     Private room             2        1.0   \n",
              "10   4.605170     Apartment     Private room             2        1.0   \n",
              "11   5.010635         House  Entire home/apt             4        1.5   \n",
              "12   4.248495     Apartment     Private room             2        1.0   \n",
              "13   5.298317     Apartment  Entire home/apt             6        1.5   \n",
              "14   4.955827     Apartment  Entire home/apt             2        1.0   \n",
              "15   4.094345     Apartment     Private room             2        1.5   \n",
              "16   4.317488          Loft     Private room             2        1.0   \n",
              "17   4.595120     Townhouse     Private room             2        2.0   \n",
              "18   4.882802     Apartment  Entire home/apt             2        1.0   \n",
              "19   4.595120         House  Entire home/apt             8        1.0   \n",
              "\n",
              "    bed_type cancellation_policy  cleaning_fee     city  instant_bookable  \\\n",
              "0   Real Bed              strict          True      NYC                 0   \n",
              "1   Real Bed              strict          True      NYC                 1   \n",
              "2   Real Bed            moderate          True      NYC                 1   \n",
              "3   Real Bed            flexible          True       SF                 0   \n",
              "4   Real Bed            moderate          True       DC                 1   \n",
              "5   Real Bed              strict          True       SF                 1   \n",
              "6   Real Bed            moderate          True       LA                 1   \n",
              "7   Real Bed            moderate          True       LA                 0   \n",
              "8   Real Bed            moderate          True       SF                 0   \n",
              "9   Real Bed            moderate          True       LA                 1   \n",
              "10  Real Bed              strict          True      NYC                 0   \n",
              "11  Real Bed              strict          True       LA                 0   \n",
              "12  Real Bed            flexible          True       LA                 0   \n",
              "13  Real Bed              strict          True       DC                 1   \n",
              "14  Real Bed              strict          True       LA                 0   \n",
              "15  Real Bed            moderate          True  Chicago                 0   \n",
              "16  Real Bed              strict         False  Chicago                 0   \n",
              "17  Real Bed              strict          True   Boston                 0   \n",
              "18  Real Bed              strict          True      NYC                 0   \n",
              "19  Real Bed              strict          True      NYC                 1   \n",
              "\n",
              "    bedrooms  beds  \n",
              "0        1.0   1.0  \n",
              "1        3.0   3.0  \n",
              "2        1.0   3.0  \n",
              "3        2.0   2.0  \n",
              "4        0.0   1.0  \n",
              "5        1.0   1.0  \n",
              "6        1.0   1.0  \n",
              "7        1.0   1.0  \n",
              "8        1.0   1.0  \n",
              "9        1.0   1.0  \n",
              "10       1.0   1.0  \n",
              "11       2.0   2.0  \n",
              "12       1.0   1.0  \n",
              "13       2.0   3.0  \n",
              "14       1.0   1.0  \n",
              "15       1.0   1.0  \n",
              "16       1.0   1.0  \n",
              "17       1.0   1.0  \n",
              "18       1.0   2.0  \n",
              "19       3.0   3.0  "
            ]
          },
          "execution_count": 15,
          "metadata": {},
          "output_type": "execute_result"
        }
      ],
      "source": [
        "df2.head(20)"
      ]
    },
    {
      "cell_type": "code",
      "execution_count": 16,
      "metadata": {
        "colab": {
          "base_uri": "https://localhost:8080/",
          "height": 1000
        },
        "id": "dPIvjy0O8lMI",
        "outputId": "d9eac948-fd71-412e-b5fe-d825aef52b68"
      },
      "outputs": [
        {
          "name": "stderr",
          "output_type": "stream",
          "text": [
            "C:\\Users\\Computer World\\AppData\\Local\\Temp\\ipykernel_16572\\1428251197.py:3: SettingWithCopyWarning: \n",
            "A value is trying to be set on a copy of a slice from a DataFrame.\n",
            "Try using .loc[row_indexer,col_indexer] = value instead\n",
            "\n",
            "See the caveats in the documentation: https://pandas.pydata.org/pandas-docs/stable/user_guide/indexing.html#returning-a-view-versus-a-copy\n",
            "  df2['cancellation_policy'] = label_encoder.fit_transform(df2['cancellation_policy'])\n",
            "C:\\Users\\Computer World\\AppData\\Local\\Temp\\ipykernel_16572\\1428251197.py:5: SettingWithCopyWarning: \n",
            "A value is trying to be set on a copy of a slice from a DataFrame.\n",
            "Try using .loc[row_indexer,col_indexer] = value instead\n",
            "\n",
            "See the caveats in the documentation: https://pandas.pydata.org/pandas-docs/stable/user_guide/indexing.html#returning-a-view-versus-a-copy\n",
            "  df2['property_type'] = label_encoder.fit_transform(df2['property_type'])\n",
            "C:\\Users\\Computer World\\AppData\\Local\\Temp\\ipykernel_16572\\1428251197.py:6: SettingWithCopyWarning: \n",
            "A value is trying to be set on a copy of a slice from a DataFrame.\n",
            "Try using .loc[row_indexer,col_indexer] = value instead\n",
            "\n",
            "See the caveats in the documentation: https://pandas.pydata.org/pandas-docs/stable/user_guide/indexing.html#returning-a-view-versus-a-copy\n",
            "  df2['room_type'] = label_encoder.fit_transform(df2['room_type'])\n",
            "C:\\Users\\Computer World\\AppData\\Local\\Temp\\ipykernel_16572\\1428251197.py:7: SettingWithCopyWarning: \n",
            "A value is trying to be set on a copy of a slice from a DataFrame.\n",
            "Try using .loc[row_indexer,col_indexer] = value instead\n",
            "\n",
            "See the caveats in the documentation: https://pandas.pydata.org/pandas-docs/stable/user_guide/indexing.html#returning-a-view-versus-a-copy\n",
            "  df2['city'] = label_encoder.fit_transform(df2['city'])\n",
            "C:\\Users\\Computer World\\AppData\\Local\\Temp\\ipykernel_16572\\1428251197.py:8: SettingWithCopyWarning: \n",
            "A value is trying to be set on a copy of a slice from a DataFrame.\n",
            "Try using .loc[row_indexer,col_indexer] = value instead\n",
            "\n",
            "See the caveats in the documentation: https://pandas.pydata.org/pandas-docs/stable/user_guide/indexing.html#returning-a-view-versus-a-copy\n",
            "  df2['bed_type'] = label_encoder.fit_transform(df2['bed_type'])\n"
          ]
        },
        {
          "data": {
            "text/html": [
              "<div>\n",
              "<style scoped>\n",
              "    .dataframe tbody tr th:only-of-type {\n",
              "        vertical-align: middle;\n",
              "    }\n",
              "\n",
              "    .dataframe tbody tr th {\n",
              "        vertical-align: top;\n",
              "    }\n",
              "\n",
              "    .dataframe thead th {\n",
              "        text-align: right;\n",
              "    }\n",
              "</style>\n",
              "<table border=\"1\" class=\"dataframe\">\n",
              "  <thead>\n",
              "    <tr style=\"text-align: right;\">\n",
              "      <th></th>\n",
              "      <th>log_price</th>\n",
              "      <th>property_type</th>\n",
              "      <th>room_type</th>\n",
              "      <th>accommodates</th>\n",
              "      <th>bathrooms</th>\n",
              "      <th>bed_type</th>\n",
              "      <th>cancellation_policy</th>\n",
              "      <th>cleaning_fee</th>\n",
              "      <th>city</th>\n",
              "      <th>instant_bookable</th>\n",
              "      <th>bedrooms</th>\n",
              "      <th>beds</th>\n",
              "    </tr>\n",
              "  </thead>\n",
              "  <tbody>\n",
              "    <tr>\n",
              "      <th>0</th>\n",
              "      <td>5.010635</td>\n",
              "      <td>0</td>\n",
              "      <td>0</td>\n",
              "      <td>3</td>\n",
              "      <td>1.0</td>\n",
              "      <td>4</td>\n",
              "      <td>2</td>\n",
              "      <td>True</td>\n",
              "      <td>4</td>\n",
              "      <td>0</td>\n",
              "      <td>1.0</td>\n",
              "      <td>1.0</td>\n",
              "    </tr>\n",
              "    <tr>\n",
              "      <th>1</th>\n",
              "      <td>5.129899</td>\n",
              "      <td>0</td>\n",
              "      <td>0</td>\n",
              "      <td>7</td>\n",
              "      <td>1.0</td>\n",
              "      <td>4</td>\n",
              "      <td>2</td>\n",
              "      <td>True</td>\n",
              "      <td>4</td>\n",
              "      <td>1</td>\n",
              "      <td>3.0</td>\n",
              "      <td>3.0</td>\n",
              "    </tr>\n",
              "    <tr>\n",
              "      <th>2</th>\n",
              "      <td>4.976734</td>\n",
              "      <td>0</td>\n",
              "      <td>0</td>\n",
              "      <td>5</td>\n",
              "      <td>1.0</td>\n",
              "      <td>4</td>\n",
              "      <td>1</td>\n",
              "      <td>True</td>\n",
              "      <td>4</td>\n",
              "      <td>1</td>\n",
              "      <td>1.0</td>\n",
              "      <td>3.0</td>\n",
              "    </tr>\n",
              "    <tr>\n",
              "      <th>3</th>\n",
              "      <td>6.620073</td>\n",
              "      <td>12</td>\n",
              "      <td>0</td>\n",
              "      <td>4</td>\n",
              "      <td>1.0</td>\n",
              "      <td>4</td>\n",
              "      <td>0</td>\n",
              "      <td>True</td>\n",
              "      <td>5</td>\n",
              "      <td>0</td>\n",
              "      <td>2.0</td>\n",
              "      <td>2.0</td>\n",
              "    </tr>\n",
              "    <tr>\n",
              "      <th>4</th>\n",
              "      <td>4.744932</td>\n",
              "      <td>0</td>\n",
              "      <td>0</td>\n",
              "      <td>2</td>\n",
              "      <td>1.0</td>\n",
              "      <td>4</td>\n",
              "      <td>1</td>\n",
              "      <td>True</td>\n",
              "      <td>2</td>\n",
              "      <td>1</td>\n",
              "      <td>0.0</td>\n",
              "      <td>1.0</td>\n",
              "    </tr>\n",
              "    <tr>\n",
              "      <th>5</th>\n",
              "      <td>4.442651</td>\n",
              "      <td>0</td>\n",
              "      <td>1</td>\n",
              "      <td>2</td>\n",
              "      <td>1.0</td>\n",
              "      <td>4</td>\n",
              "      <td>2</td>\n",
              "      <td>True</td>\n",
              "      <td>5</td>\n",
              "      <td>1</td>\n",
              "      <td>1.0</td>\n",
              "      <td>1.0</td>\n",
              "    </tr>\n",
              "    <tr>\n",
              "      <th>6</th>\n",
              "      <td>4.418841</td>\n",
              "      <td>0</td>\n",
              "      <td>0</td>\n",
              "      <td>3</td>\n",
              "      <td>1.0</td>\n",
              "      <td>4</td>\n",
              "      <td>1</td>\n",
              "      <td>True</td>\n",
              "      <td>3</td>\n",
              "      <td>1</td>\n",
              "      <td>1.0</td>\n",
              "      <td>1.0</td>\n",
              "    </tr>\n",
              "    <tr>\n",
              "      <th>7</th>\n",
              "      <td>4.787492</td>\n",
              "      <td>7</td>\n",
              "      <td>0</td>\n",
              "      <td>2</td>\n",
              "      <td>1.0</td>\n",
              "      <td>4</td>\n",
              "      <td>1</td>\n",
              "      <td>True</td>\n",
              "      <td>3</td>\n",
              "      <td>0</td>\n",
              "      <td>1.0</td>\n",
              "      <td>1.0</td>\n",
              "    </tr>\n",
              "    <tr>\n",
              "      <th>8</th>\n",
              "      <td>4.787492</td>\n",
              "      <td>12</td>\n",
              "      <td>1</td>\n",
              "      <td>2</td>\n",
              "      <td>1.0</td>\n",
              "      <td>4</td>\n",
              "      <td>1</td>\n",
              "      <td>True</td>\n",
              "      <td>5</td>\n",
              "      <td>0</td>\n",
              "      <td>1.0</td>\n",
              "      <td>1.0</td>\n",
              "    </tr>\n",
              "    <tr>\n",
              "      <th>9</th>\n",
              "      <td>3.583519</td>\n",
              "      <td>12</td>\n",
              "      <td>1</td>\n",
              "      <td>2</td>\n",
              "      <td>1.0</td>\n",
              "      <td>4</td>\n",
              "      <td>1</td>\n",
              "      <td>True</td>\n",
              "      <td>3</td>\n",
              "      <td>1</td>\n",
              "      <td>1.0</td>\n",
              "      <td>1.0</td>\n",
              "    </tr>\n",
              "    <tr>\n",
              "      <th>10</th>\n",
              "      <td>4.605170</td>\n",
              "      <td>0</td>\n",
              "      <td>1</td>\n",
              "      <td>2</td>\n",
              "      <td>1.0</td>\n",
              "      <td>4</td>\n",
              "      <td>2</td>\n",
              "      <td>True</td>\n",
              "      <td>4</td>\n",
              "      <td>0</td>\n",
              "      <td>1.0</td>\n",
              "      <td>1.0</td>\n",
              "    </tr>\n",
              "    <tr>\n",
              "      <th>11</th>\n",
              "      <td>5.010635</td>\n",
              "      <td>12</td>\n",
              "      <td>0</td>\n",
              "      <td>4</td>\n",
              "      <td>1.5</td>\n",
              "      <td>4</td>\n",
              "      <td>2</td>\n",
              "      <td>True</td>\n",
              "      <td>3</td>\n",
              "      <td>0</td>\n",
              "      <td>2.0</td>\n",
              "      <td>2.0</td>\n",
              "    </tr>\n",
              "    <tr>\n",
              "      <th>12</th>\n",
              "      <td>4.248495</td>\n",
              "      <td>0</td>\n",
              "      <td>1</td>\n",
              "      <td>2</td>\n",
              "      <td>1.0</td>\n",
              "      <td>4</td>\n",
              "      <td>0</td>\n",
              "      <td>True</td>\n",
              "      <td>3</td>\n",
              "      <td>0</td>\n",
              "      <td>1.0</td>\n",
              "      <td>1.0</td>\n",
              "    </tr>\n",
              "    <tr>\n",
              "      <th>13</th>\n",
              "      <td>5.298317</td>\n",
              "      <td>0</td>\n",
              "      <td>0</td>\n",
              "      <td>6</td>\n",
              "      <td>1.5</td>\n",
              "      <td>4</td>\n",
              "      <td>2</td>\n",
              "      <td>True</td>\n",
              "      <td>2</td>\n",
              "      <td>1</td>\n",
              "      <td>2.0</td>\n",
              "      <td>3.0</td>\n",
              "    </tr>\n",
              "    <tr>\n",
              "      <th>14</th>\n",
              "      <td>4.955827</td>\n",
              "      <td>0</td>\n",
              "      <td>0</td>\n",
              "      <td>2</td>\n",
              "      <td>1.0</td>\n",
              "      <td>4</td>\n",
              "      <td>2</td>\n",
              "      <td>True</td>\n",
              "      <td>3</td>\n",
              "      <td>0</td>\n",
              "      <td>1.0</td>\n",
              "      <td>1.0</td>\n",
              "    </tr>\n",
              "    <tr>\n",
              "      <th>15</th>\n",
              "      <td>4.094345</td>\n",
              "      <td>0</td>\n",
              "      <td>1</td>\n",
              "      <td>2</td>\n",
              "      <td>1.5</td>\n",
              "      <td>4</td>\n",
              "      <td>1</td>\n",
              "      <td>True</td>\n",
              "      <td>1</td>\n",
              "      <td>0</td>\n",
              "      <td>1.0</td>\n",
              "      <td>1.0</td>\n",
              "    </tr>\n",
              "    <tr>\n",
              "      <th>16</th>\n",
              "      <td>4.317488</td>\n",
              "      <td>14</td>\n",
              "      <td>1</td>\n",
              "      <td>2</td>\n",
              "      <td>1.0</td>\n",
              "      <td>4</td>\n",
              "      <td>2</td>\n",
              "      <td>False</td>\n",
              "      <td>1</td>\n",
              "      <td>0</td>\n",
              "      <td>1.0</td>\n",
              "      <td>1.0</td>\n",
              "    </tr>\n",
              "    <tr>\n",
              "      <th>17</th>\n",
              "      <td>4.595120</td>\n",
              "      <td>17</td>\n",
              "      <td>1</td>\n",
              "      <td>2</td>\n",
              "      <td>2.0</td>\n",
              "      <td>4</td>\n",
              "      <td>2</td>\n",
              "      <td>True</td>\n",
              "      <td>0</td>\n",
              "      <td>0</td>\n",
              "      <td>1.0</td>\n",
              "      <td>1.0</td>\n",
              "    </tr>\n",
              "    <tr>\n",
              "      <th>18</th>\n",
              "      <td>4.882802</td>\n",
              "      <td>0</td>\n",
              "      <td>0</td>\n",
              "      <td>2</td>\n",
              "      <td>1.0</td>\n",
              "      <td>4</td>\n",
              "      <td>2</td>\n",
              "      <td>True</td>\n",
              "      <td>4</td>\n",
              "      <td>0</td>\n",
              "      <td>1.0</td>\n",
              "      <td>2.0</td>\n",
              "    </tr>\n",
              "    <tr>\n",
              "      <th>19</th>\n",
              "      <td>4.595120</td>\n",
              "      <td>12</td>\n",
              "      <td>0</td>\n",
              "      <td>8</td>\n",
              "      <td>1.0</td>\n",
              "      <td>4</td>\n",
              "      <td>2</td>\n",
              "      <td>True</td>\n",
              "      <td>4</td>\n",
              "      <td>1</td>\n",
              "      <td>3.0</td>\n",
              "      <td>3.0</td>\n",
              "    </tr>\n",
              "  </tbody>\n",
              "</table>\n",
              "</div>"
            ],
            "text/plain": [
              "    log_price  property_type  room_type  accommodates  bathrooms  bed_type  \\\n",
              "0    5.010635              0          0             3        1.0         4   \n",
              "1    5.129899              0          0             7        1.0         4   \n",
              "2    4.976734              0          0             5        1.0         4   \n",
              "3    6.620073             12          0             4        1.0         4   \n",
              "4    4.744932              0          0             2        1.0         4   \n",
              "5    4.442651              0          1             2        1.0         4   \n",
              "6    4.418841              0          0             3        1.0         4   \n",
              "7    4.787492              7          0             2        1.0         4   \n",
              "8    4.787492             12          1             2        1.0         4   \n",
              "9    3.583519             12          1             2        1.0         4   \n",
              "10   4.605170              0          1             2        1.0         4   \n",
              "11   5.010635             12          0             4        1.5         4   \n",
              "12   4.248495              0          1             2        1.0         4   \n",
              "13   5.298317              0          0             6        1.5         4   \n",
              "14   4.955827              0          0             2        1.0         4   \n",
              "15   4.094345              0          1             2        1.5         4   \n",
              "16   4.317488             14          1             2        1.0         4   \n",
              "17   4.595120             17          1             2        2.0         4   \n",
              "18   4.882802              0          0             2        1.0         4   \n",
              "19   4.595120             12          0             8        1.0         4   \n",
              "\n",
              "    cancellation_policy  cleaning_fee  city  instant_bookable  bedrooms  beds  \n",
              "0                     2          True     4                 0       1.0   1.0  \n",
              "1                     2          True     4                 1       3.0   3.0  \n",
              "2                     1          True     4                 1       1.0   3.0  \n",
              "3                     0          True     5                 0       2.0   2.0  \n",
              "4                     1          True     2                 1       0.0   1.0  \n",
              "5                     2          True     5                 1       1.0   1.0  \n",
              "6                     1          True     3                 1       1.0   1.0  \n",
              "7                     1          True     3                 0       1.0   1.0  \n",
              "8                     1          True     5                 0       1.0   1.0  \n",
              "9                     1          True     3                 1       1.0   1.0  \n",
              "10                    2          True     4                 0       1.0   1.0  \n",
              "11                    2          True     3                 0       2.0   2.0  \n",
              "12                    0          True     3                 0       1.0   1.0  \n",
              "13                    2          True     2                 1       2.0   3.0  \n",
              "14                    2          True     3                 0       1.0   1.0  \n",
              "15                    1          True     1                 0       1.0   1.0  \n",
              "16                    2         False     1                 0       1.0   1.0  \n",
              "17                    2          True     0                 0       1.0   1.0  \n",
              "18                    2          True     4                 0       1.0   2.0  \n",
              "19                    2          True     4                 1       3.0   3.0  "
            ]
          },
          "execution_count": 16,
          "metadata": {},
          "output_type": "execute_result"
        }
      ],
      "source": [
        "from sklearn.preprocessing import LabelEncoder\n",
        "label_encoder = LabelEncoder()\n",
        "df2['cancellation_policy'] = label_encoder.fit_transform(df2['cancellation_policy'])\n",
        "\n",
        "df2['property_type'] = label_encoder.fit_transform(df2['property_type'])\n",
        "df2['room_type'] = label_encoder.fit_transform(df2['room_type'])\n",
        "df2['city'] = label_encoder.fit_transform(df2['city'])\n",
        "df2['bed_type'] = label_encoder.fit_transform(df2['bed_type'])\n",
        "\n",
        "df2.head(20)"
      ]
    },
    {
      "cell_type": "code",
      "execution_count": 17,
      "metadata": {
        "colab": {
          "base_uri": "https://localhost:8080/"
        },
        "id": "oQ15m3MS8qml",
        "outputId": "1848c09c-3781-44e3-ddcd-91095c18b8da"
      },
      "outputs": [
        {
          "data": {
            "text/plain": [
              "0    5.010635\n",
              "1    5.129899\n",
              "2    4.976734\n",
              "3    6.620073\n",
              "4    4.744932\n",
              "Name: log_price, dtype: float64"
            ]
          },
          "execution_count": 17,
          "metadata": {},
          "output_type": "execute_result"
        }
      ],
      "source": [
        "X = df2.drop([\"log_price\"],axis =1)\n",
        "y = df2.log_price\n",
        "y.head()"
      ]
    },
    {
      "cell_type": "code",
      "execution_count": 18,
      "metadata": {
        "id": "xtKrOaBY8uIX"
      },
      "outputs": [],
      "source": [
        "from sklearn.model_selection import train_test_split\n",
        "from sklearn.preprocessing import StandardScaler\n",
        "from sklearn.ensemble import RandomForestRegressor\n",
        "from xgboost import XGBRegressor\n",
        "from sklearn.metrics import r2_score,mean_squared_error"
      ]
    },
    {
      "cell_type": "code",
      "execution_count": 19,
      "metadata": {},
      "outputs": [],
      "source": [
        "X_train,X_test,y_train,y_test = train_test_split(X,y,test_size=0.2,random_state=100)"
      ]
    },
    {
      "cell_type": "code",
      "execution_count": 20,
      "metadata": {},
      "outputs": [],
      "source": [
        "sc=StandardScaler()\n",
        "X_train=sc.fit_transform(X_train)"
      ]
    },
    {
      "cell_type": "code",
      "execution_count": 21,
      "metadata": {},
      "outputs": [],
      "source": [
        "X_test=sc.transform(X_test)"
      ]
    },
    {
      "cell_type": "code",
      "execution_count": 22,
      "metadata": {},
      "outputs": [],
      "source": [
        "def check_test_score(model):\n",
        "    pred=model.predict(X_test)\n",
        "    print(\"R2 Score is:\", r2_score(y_test,pred))\n",
        "    print(\"Mean Squared Error is :\",mean_squared_error(y_test,pred))\n",
        "    print(\"Mean Absolute Error is :\",mean_squared_error(y_test,pred))\n",
        "    print(\"Root Mean Square Error is :\",mean_squared_error(y_test,pred))"
      ]
    },
    {
      "cell_type": "markdown",
      "metadata": {},
      "source": [
        "Random Forest"
      ]
    },
    {
      "cell_type": "code",
      "execution_count": 23,
      "metadata": {},
      "outputs": [
        {
          "name": "stdout",
          "output_type": "stream",
          "text": [
            "R2 Score is: 0.5567389250917357\n",
            "Mean Squared Error is : 0.22861911437249274\n",
            "Mean Absolute Error is : 0.22861911437249274\n",
            "Root Mean Square Error is : 0.22861911437249274\n"
          ]
        }
      ],
      "source": [
        "rf = RandomForestRegressor()\n",
        "#y_pred_rf = rf.predict(X_test)\n",
        "#xg_boost=XGBRegressor()\n",
        "rf.fit(X_train,y_train)\n",
        "check_test_score(rf)"
      ]
    },
    {
      "cell_type": "markdown",
      "metadata": {},
      "source": [
        "XGBoost"
      ]
    },
    {
      "cell_type": "code",
      "execution_count": 24,
      "metadata": {},
      "outputs": [
        {
          "name": "stdout",
          "output_type": "stream",
          "text": [
            "R2 Score is: 0.5877583963074937\n",
            "Mean Squared Error is : 0.21262031718707042\n",
            "Mean Absolute Error is : 0.21262031718707042\n",
            "Root Mean Square Error is : 0.21262031718707042\n"
          ]
        }
      ],
      "source": [
        "xg_boost=XGBRegressor()\n",
        "xg_boost.fit(X_train,y_train)\n",
        "check_test_score(xg_boost)"
      ]
    },
    {
      "cell_type": "code",
      "execution_count": 25,
      "metadata": {},
      "outputs": [],
      "source": [
        "sc=StandardScaler()\n",
        "X=sc.fit_transform(X)"
      ]
    },
    {
      "cell_type": "code",
      "execution_count": 26,
      "metadata": {},
      "outputs": [],
      "source": [
        "model=XGBRegressor()"
      ]
    },
    {
      "cell_type": "code",
      "execution_count": 27,
      "metadata": {},
      "outputs": [
        {
          "data": {
            "text/html": [
              "<style>#sk-container-id-1 {color: black;}#sk-container-id-1 pre{padding: 0;}#sk-container-id-1 div.sk-toggleable {background-color: white;}#sk-container-id-1 label.sk-toggleable__label {cursor: pointer;display: block;width: 100%;margin-bottom: 0;padding: 0.3em;box-sizing: border-box;text-align: center;}#sk-container-id-1 label.sk-toggleable__label-arrow:before {content: \"▸\";float: left;margin-right: 0.25em;color: #696969;}#sk-container-id-1 label.sk-toggleable__label-arrow:hover:before {color: black;}#sk-container-id-1 div.sk-estimator:hover label.sk-toggleable__label-arrow:before {color: black;}#sk-container-id-1 div.sk-toggleable__content {max-height: 0;max-width: 0;overflow: hidden;text-align: left;background-color: #f0f8ff;}#sk-container-id-1 div.sk-toggleable__content pre {margin: 0.2em;color: black;border-radius: 0.25em;background-color: #f0f8ff;}#sk-container-id-1 input.sk-toggleable__control:checked~div.sk-toggleable__content {max-height: 200px;max-width: 100%;overflow: auto;}#sk-container-id-1 input.sk-toggleable__control:checked~label.sk-toggleable__label-arrow:before {content: \"▾\";}#sk-container-id-1 div.sk-estimator input.sk-toggleable__control:checked~label.sk-toggleable__label {background-color: #d4ebff;}#sk-container-id-1 div.sk-label input.sk-toggleable__control:checked~label.sk-toggleable__label {background-color: #d4ebff;}#sk-container-id-1 input.sk-hidden--visually {border: 0;clip: rect(1px 1px 1px 1px);clip: rect(1px, 1px, 1px, 1px);height: 1px;margin: -1px;overflow: hidden;padding: 0;position: absolute;width: 1px;}#sk-container-id-1 div.sk-estimator {font-family: monospace;background-color: #f0f8ff;border: 1px dotted black;border-radius: 0.25em;box-sizing: border-box;margin-bottom: 0.5em;}#sk-container-id-1 div.sk-estimator:hover {background-color: #d4ebff;}#sk-container-id-1 div.sk-parallel-item::after {content: \"\";width: 100%;border-bottom: 1px solid gray;flex-grow: 1;}#sk-container-id-1 div.sk-label:hover label.sk-toggleable__label {background-color: #d4ebff;}#sk-container-id-1 div.sk-serial::before {content: \"\";position: absolute;border-left: 1px solid gray;box-sizing: border-box;top: 0;bottom: 0;left: 50%;z-index: 0;}#sk-container-id-1 div.sk-serial {display: flex;flex-direction: column;align-items: center;background-color: white;padding-right: 0.2em;padding-left: 0.2em;position: relative;}#sk-container-id-1 div.sk-item {position: relative;z-index: 1;}#sk-container-id-1 div.sk-parallel {display: flex;align-items: stretch;justify-content: center;background-color: white;position: relative;}#sk-container-id-1 div.sk-item::before, #sk-container-id-1 div.sk-parallel-item::before {content: \"\";position: absolute;border-left: 1px solid gray;box-sizing: border-box;top: 0;bottom: 0;left: 50%;z-index: -1;}#sk-container-id-1 div.sk-parallel-item {display: flex;flex-direction: column;z-index: 1;position: relative;background-color: white;}#sk-container-id-1 div.sk-parallel-item:first-child::after {align-self: flex-end;width: 50%;}#sk-container-id-1 div.sk-parallel-item:last-child::after {align-self: flex-start;width: 50%;}#sk-container-id-1 div.sk-parallel-item:only-child::after {width: 0;}#sk-container-id-1 div.sk-dashed-wrapped {border: 1px dashed gray;margin: 0 0.4em 0.5em 0.4em;box-sizing: border-box;padding-bottom: 0.4em;background-color: white;}#sk-container-id-1 div.sk-label label {font-family: monospace;font-weight: bold;display: inline-block;line-height: 1.2em;}#sk-container-id-1 div.sk-label-container {text-align: center;}#sk-container-id-1 div.sk-container {/* jupyter's `normalize.less` sets `[hidden] { display: none; }` but bootstrap.min.css set `[hidden] { display: none !important; }` so we also need the `!important` here to be able to override the default hidden behavior on the sphinx rendered scikit-learn.org. See: https://github.com/scikit-learn/scikit-learn/issues/21755 */display: inline-block !important;position: relative;}#sk-container-id-1 div.sk-text-repr-fallback {display: none;}</style><div id=\"sk-container-id-1\" class=\"sk-top-container\"><div class=\"sk-text-repr-fallback\"><pre>XGBRegressor(base_score=None, booster=None, callbacks=None,\n",
              "             colsample_bylevel=None, colsample_bynode=None,\n",
              "             colsample_bytree=None, device=None, early_stopping_rounds=None,\n",
              "             enable_categorical=False, eval_metric=None, feature_types=None,\n",
              "             gamma=None, grow_policy=None, importance_type=None,\n",
              "             interaction_constraints=None, learning_rate=None, max_bin=None,\n",
              "             max_cat_threshold=None, max_cat_to_onehot=None,\n",
              "             max_delta_step=None, max_depth=None, max_leaves=None,\n",
              "             min_child_weight=None, missing=nan, monotone_constraints=None,\n",
              "             multi_strategy=None, n_estimators=None, n_jobs=None,\n",
              "             num_parallel_tree=None, random_state=None, ...)</pre><b>In a Jupyter environment, please rerun this cell to show the HTML representation or trust the notebook. <br />On GitHub, the HTML representation is unable to render, please try loading this page with nbviewer.org.</b></div><div class=\"sk-container\" hidden><div class=\"sk-item\"><div class=\"sk-estimator sk-toggleable\"><input class=\"sk-toggleable__control sk-hidden--visually\" id=\"sk-estimator-id-1\" type=\"checkbox\" checked><label for=\"sk-estimator-id-1\" class=\"sk-toggleable__label sk-toggleable__label-arrow\">XGBRegressor</label><div class=\"sk-toggleable__content\"><pre>XGBRegressor(base_score=None, booster=None, callbacks=None,\n",
              "             colsample_bylevel=None, colsample_bynode=None,\n",
              "             colsample_bytree=None, device=None, early_stopping_rounds=None,\n",
              "             enable_categorical=False, eval_metric=None, feature_types=None,\n",
              "             gamma=None, grow_policy=None, importance_type=None,\n",
              "             interaction_constraints=None, learning_rate=None, max_bin=None,\n",
              "             max_cat_threshold=None, max_cat_to_onehot=None,\n",
              "             max_delta_step=None, max_depth=None, max_leaves=None,\n",
              "             min_child_weight=None, missing=nan, monotone_constraints=None,\n",
              "             multi_strategy=None, n_estimators=None, n_jobs=None,\n",
              "             num_parallel_tree=None, random_state=None, ...)</pre></div></div></div></div></div>"
            ],
            "text/plain": [
              "XGBRegressor(base_score=None, booster=None, callbacks=None,\n",
              "             colsample_bylevel=None, colsample_bynode=None,\n",
              "             colsample_bytree=None, device=None, early_stopping_rounds=None,\n",
              "             enable_categorical=False, eval_metric=None, feature_types=None,\n",
              "             gamma=None, grow_policy=None, importance_type=None,\n",
              "             interaction_constraints=None, learning_rate=None, max_bin=None,\n",
              "             max_cat_threshold=None, max_cat_to_onehot=None,\n",
              "             max_delta_step=None, max_depth=None, max_leaves=None,\n",
              "             min_child_weight=None, missing=nan, monotone_constraints=None,\n",
              "             multi_strategy=None, n_estimators=None, n_jobs=None,\n",
              "             num_parallel_tree=None, random_state=None, ...)"
            ]
          },
          "execution_count": 27,
          "metadata": {},
          "output_type": "execute_result"
        }
      ],
      "source": [
        "model.fit(X,y)"
      ]
    },
    {
      "cell_type": "code",
      "execution_count": 28,
      "metadata": {},
      "outputs": [
        {
          "data": {
            "text/plain": [
              "0.0611915389190536"
            ]
          },
          "execution_count": 28,
          "metadata": {},
          "output_type": "execute_result"
        }
      ],
      "source": [
        "model.score(X_test,y_test)"
      ]
    },
    {
      "cell_type": "code",
      "execution_count": 29,
      "metadata": {},
      "outputs": [],
      "source": [
        "import pickle"
      ]
    },
    {
      "cell_type": "code",
      "execution_count": 30,
      "metadata": {},
      "outputs": [],
      "source": [
        "with open(\"my_model.pkl\",\"wb\") as f:\n",
        "    pickle.dump(model,f)\n",
        "with open(\"my_scalar.pkl\",\"wb\") as f:\n",
        "    pickle.dump(sc,f)"
      ]
    },
    {
      "cell_type": "code",
      "execution_count": 31,
      "metadata": {},
      "outputs": [
        {
          "data": {
            "text/html": [
              "<div>\n",
              "<style scoped>\n",
              "    .dataframe tbody tr th:only-of-type {\n",
              "        vertical-align: middle;\n",
              "    }\n",
              "\n",
              "    .dataframe tbody tr th {\n",
              "        vertical-align: top;\n",
              "    }\n",
              "\n",
              "    .dataframe thead th {\n",
              "        text-align: right;\n",
              "    }\n",
              "</style>\n",
              "<table border=\"1\" class=\"dataframe\">\n",
              "  <thead>\n",
              "    <tr style=\"text-align: right;\">\n",
              "      <th></th>\n",
              "      <th>log_price</th>\n",
              "      <th>property_type</th>\n",
              "      <th>room_type</th>\n",
              "      <th>accommodates</th>\n",
              "      <th>bathrooms</th>\n",
              "      <th>bed_type</th>\n",
              "      <th>cancellation_policy</th>\n",
              "      <th>cleaning_fee</th>\n",
              "      <th>city</th>\n",
              "      <th>instant_bookable</th>\n",
              "      <th>bedrooms</th>\n",
              "      <th>beds</th>\n",
              "    </tr>\n",
              "  </thead>\n",
              "  <tbody>\n",
              "    <tr>\n",
              "      <th>0</th>\n",
              "      <td>5.010635</td>\n",
              "      <td>0</td>\n",
              "      <td>0</td>\n",
              "      <td>3</td>\n",
              "      <td>1.0</td>\n",
              "      <td>4</td>\n",
              "      <td>2</td>\n",
              "      <td>True</td>\n",
              "      <td>4</td>\n",
              "      <td>0</td>\n",
              "      <td>1.0</td>\n",
              "      <td>1.0</td>\n",
              "    </tr>\n",
              "    <tr>\n",
              "      <th>1</th>\n",
              "      <td>5.129899</td>\n",
              "      <td>0</td>\n",
              "      <td>0</td>\n",
              "      <td>7</td>\n",
              "      <td>1.0</td>\n",
              "      <td>4</td>\n",
              "      <td>2</td>\n",
              "      <td>True</td>\n",
              "      <td>4</td>\n",
              "      <td>1</td>\n",
              "      <td>3.0</td>\n",
              "      <td>3.0</td>\n",
              "    </tr>\n",
              "    <tr>\n",
              "      <th>2</th>\n",
              "      <td>4.976734</td>\n",
              "      <td>0</td>\n",
              "      <td>0</td>\n",
              "      <td>5</td>\n",
              "      <td>1.0</td>\n",
              "      <td>4</td>\n",
              "      <td>1</td>\n",
              "      <td>True</td>\n",
              "      <td>4</td>\n",
              "      <td>1</td>\n",
              "      <td>1.0</td>\n",
              "      <td>3.0</td>\n",
              "    </tr>\n",
              "    <tr>\n",
              "      <th>3</th>\n",
              "      <td>6.620073</td>\n",
              "      <td>12</td>\n",
              "      <td>0</td>\n",
              "      <td>4</td>\n",
              "      <td>1.0</td>\n",
              "      <td>4</td>\n",
              "      <td>0</td>\n",
              "      <td>True</td>\n",
              "      <td>5</td>\n",
              "      <td>0</td>\n",
              "      <td>2.0</td>\n",
              "      <td>2.0</td>\n",
              "    </tr>\n",
              "    <tr>\n",
              "      <th>4</th>\n",
              "      <td>4.744932</td>\n",
              "      <td>0</td>\n",
              "      <td>0</td>\n",
              "      <td>2</td>\n",
              "      <td>1.0</td>\n",
              "      <td>4</td>\n",
              "      <td>1</td>\n",
              "      <td>True</td>\n",
              "      <td>2</td>\n",
              "      <td>1</td>\n",
              "      <td>0.0</td>\n",
              "      <td>1.0</td>\n",
              "    </tr>\n",
              "    <tr>\n",
              "      <th>...</th>\n",
              "      <td>...</td>\n",
              "      <td>...</td>\n",
              "      <td>...</td>\n",
              "      <td>...</td>\n",
              "      <td>...</td>\n",
              "      <td>...</td>\n",
              "      <td>...</td>\n",
              "      <td>...</td>\n",
              "      <td>...</td>\n",
              "      <td>...</td>\n",
              "      <td>...</td>\n",
              "      <td>...</td>\n",
              "    </tr>\n",
              "    <tr>\n",
              "      <th>73998</th>\n",
              "      <td>4.605170</td>\n",
              "      <td>0</td>\n",
              "      <td>1</td>\n",
              "      <td>1</td>\n",
              "      <td>1.0</td>\n",
              "      <td>4</td>\n",
              "      <td>0</td>\n",
              "      <td>False</td>\n",
              "      <td>4</td>\n",
              "      <td>0</td>\n",
              "      <td>1.0</td>\n",
              "      <td>1.0</td>\n",
              "    </tr>\n",
              "    <tr>\n",
              "      <th>73999</th>\n",
              "      <td>5.043425</td>\n",
              "      <td>0</td>\n",
              "      <td>0</td>\n",
              "      <td>4</td>\n",
              "      <td>2.0</td>\n",
              "      <td>4</td>\n",
              "      <td>1</td>\n",
              "      <td>True</td>\n",
              "      <td>3</td>\n",
              "      <td>0</td>\n",
              "      <td>2.0</td>\n",
              "      <td>4.0</td>\n",
              "    </tr>\n",
              "    <tr>\n",
              "      <th>74000</th>\n",
              "      <td>5.220356</td>\n",
              "      <td>0</td>\n",
              "      <td>0</td>\n",
              "      <td>5</td>\n",
              "      <td>1.0</td>\n",
              "      <td>4</td>\n",
              "      <td>1</td>\n",
              "      <td>True</td>\n",
              "      <td>4</td>\n",
              "      <td>1</td>\n",
              "      <td>2.0</td>\n",
              "      <td>2.0</td>\n",
              "    </tr>\n",
              "    <tr>\n",
              "      <th>74001</th>\n",
              "      <td>5.273000</td>\n",
              "      <td>0</td>\n",
              "      <td>0</td>\n",
              "      <td>2</td>\n",
              "      <td>1.0</td>\n",
              "      <td>4</td>\n",
              "      <td>2</td>\n",
              "      <td>True</td>\n",
              "      <td>4</td>\n",
              "      <td>1</td>\n",
              "      <td>0.0</td>\n",
              "      <td>2.0</td>\n",
              "    </tr>\n",
              "    <tr>\n",
              "      <th>74002</th>\n",
              "      <td>4.852030</td>\n",
              "      <td>2</td>\n",
              "      <td>0</td>\n",
              "      <td>4</td>\n",
              "      <td>1.0</td>\n",
              "      <td>4</td>\n",
              "      <td>1</td>\n",
              "      <td>False</td>\n",
              "      <td>3</td>\n",
              "      <td>0</td>\n",
              "      <td>1.0</td>\n",
              "      <td>2.0</td>\n",
              "    </tr>\n",
              "  </tbody>\n",
              "</table>\n",
              "<p>73659 rows × 12 columns</p>\n",
              "</div>"
            ],
            "text/plain": [
              "       log_price  property_type  room_type  accommodates  bathrooms  bed_type  \\\n",
              "0       5.010635              0          0             3        1.0         4   \n",
              "1       5.129899              0          0             7        1.0         4   \n",
              "2       4.976734              0          0             5        1.0         4   \n",
              "3       6.620073             12          0             4        1.0         4   \n",
              "4       4.744932              0          0             2        1.0         4   \n",
              "...          ...            ...        ...           ...        ...       ...   \n",
              "73998   4.605170              0          1             1        1.0         4   \n",
              "73999   5.043425              0          0             4        2.0         4   \n",
              "74000   5.220356              0          0             5        1.0         4   \n",
              "74001   5.273000              0          0             2        1.0         4   \n",
              "74002   4.852030              2          0             4        1.0         4   \n",
              "\n",
              "       cancellation_policy  cleaning_fee  city  instant_bookable  bedrooms  \\\n",
              "0                        2          True     4                 0       1.0   \n",
              "1                        2          True     4                 1       3.0   \n",
              "2                        1          True     4                 1       1.0   \n",
              "3                        0          True     5                 0       2.0   \n",
              "4                        1          True     2                 1       0.0   \n",
              "...                    ...           ...   ...               ...       ...   \n",
              "73998                    0         False     4                 0       1.0   \n",
              "73999                    1          True     3                 0       2.0   \n",
              "74000                    1          True     4                 1       2.0   \n",
              "74001                    2          True     4                 1       0.0   \n",
              "74002                    1         False     3                 0       1.0   \n",
              "\n",
              "       beds  \n",
              "0       1.0  \n",
              "1       3.0  \n",
              "2       3.0  \n",
              "3       2.0  \n",
              "4       1.0  \n",
              "...     ...  \n",
              "73998   1.0  \n",
              "73999   4.0  \n",
              "74000   2.0  \n",
              "74001   2.0  \n",
              "74002   2.0  \n",
              "\n",
              "[73659 rows x 12 columns]"
            ]
          },
          "execution_count": 31,
          "metadata": {},
          "output_type": "execute_result"
        }
      ],
      "source": [
        "df2"
      ]
    },
    {
      "cell_type": "code",
      "execution_count": 32,
      "metadata": {
        "id": "FeQBIDiG9WeG"
      },
      "outputs": [],
      "source": [
        "# Create mappings for property_type\n",
        "property_type_map = {\n",
        "    'Apartment':0,\n",
        "    'Bed & Breakfast':1,\n",
        "    'Boat':2,\n",
        "    'Boutique hotel':3,\n",
        "    'Bungalow':4,\n",
        "    'Cabin':5,\n",
        "    'Camper/RV':6,\n",
        "    'Condominium':7,\n",
        "    'Dorm':8,\n",
        "    'Guest suite':9,\n",
        "    'Guesthouse':10 ,\n",
        "    'Hostel':11,\n",
        "    'House':12,\n",
        "    'In-law':13,\n",
        "    'Loft':14,\n",
        "    'Other':15,\n",
        "    'Timeshare':16,\n",
        "    'Townhouse':17,\n",
        "    'Villa':18\n",
        "}\n",
        "\n",
        "# Create mappings for room_type\n",
        "room_type_map = {\n",
        "    'Entire home/apt': 0,\n",
        "    'Private room': 1,\n",
        "    'Shared room': 2\n",
        "}\n",
        "\n",
        "# Create mappings for bed_type\n",
        "bed_type_map = {\n",
        "   'Airbed':0,\n",
        "   'Couch':1,\n",
        "   'Futon' :2,\n",
        "   'Pull-out Sofa':3,\n",
        "   'Real Bed': 4\n",
        "}\n",
        "\n",
        "# Create mappings for cancellation_policy\n",
        "cancellation_policy_map = {\n",
        "    'flexible': 0,\n",
        "    'moderate': 1,\n",
        "    'strict': 2\n",
        "}\n",
        "\n",
        "# Create mappings for cleaning_fee\n",
        "cleaning_fee_map = {\n",
        "    'False':0, \n",
        "    'True':1\n",
        "}\n",
        "\n",
        "# Create mappings for city\n",
        "city_map = {\n",
        "    'Boston':0,\n",
        "    'Chicago':1,\n",
        "    'DC':2,\n",
        "    'LA':3,\n",
        "    'NYC':4,\n",
        "    'SF':5\n",
        "}\n",
        "\n",
        "# Create mappings for instant_bookable\n",
        "instant_bookable_map = {\n",
        "    'f': 0,\n",
        "    't': 1\n",
        "}"
      ]
    },
    {
      "cell_type": "code",
      "execution_count": 33,
      "metadata": {},
      "outputs": [
        {
          "data": {
            "text/plain": [
              "{'Boston': 0, 'Chicago': 1, 'DC': 2, 'LA': 3, 'NYC': 4, 'SF': 5}"
            ]
          },
          "execution_count": 33,
          "metadata": {},
          "output_type": "execute_result"
        }
      ],
      "source": [
        "city_map"
      ]
    },
    {
      "cell_type": "code",
      "execution_count": 37,
      "metadata": {},
      "outputs": [],
      "source": [
        "Pause=True\n",
        "\n",
        "while Pause:\n",
        "    values=[]\n",
        "    a=input(\"City\")\n",
        "    values.append(city_map[a])\n",
        "    a=input(\"Property_Type\")\n",
        "    values.append(property_type_map[a])\n",
        "    a=input(\"Room_Type\")\n",
        "    values.append(room_type_map[a])\n",
        "    a=int(input(\"Accomodates\"))\n",
        "    values.append(a)\n",
        "    a=input(\"Bed_Type\")\n",
        "    values.append(bed_type_map[a])\n",
        "    a=input(\"Beds\")\n",
        "    values.append(a)\n",
        "    a=input(\"Bedrooms\")\n",
        "    values.append(a)\n",
        "    a=int(input(\"Bathrooms\"))\n",
        "    values.append(a)\n",
        "    a=input(\"Cancellation_Policy\")\n",
        "    values.append(cancellation_policy_map[a])\n",
        "    a=input(\"Cleaning_Fee\")\n",
        "    values.append(cleaning_fee_map[a])\n",
        "    a=input(\"Instant_Bookable\")\n",
        "    values.append(instant_bookable_map[a])\n",
        "    Pause=False"
      ]
    },
    {
      "cell_type": "code",
      "execution_count": 38,
      "metadata": {},
      "outputs": [
        {
          "name": "stderr",
          "output_type": "stream",
          "text": [
            "c:\\Users\\Computer World\\AppData\\Local\\Programs\\Python\\Python312\\Lib\\site-packages\\sklearn\\base.py:465: UserWarning: X does not have valid feature names, but StandardScaler was fitted with feature names\n",
            "  warnings.warn(\n"
          ]
        }
      ],
      "source": [
        "val=sc.transform([values])"
      ]
    },
    {
      "cell_type": "code",
      "execution_count": 39,
      "metadata": {},
      "outputs": [
        {
          "data": {
            "text/plain": [
              "array([4.6058035], dtype=float32)"
            ]
          },
          "execution_count": 39,
          "metadata": {},
          "output_type": "execute_result"
        }
      ],
      "source": [
        "model.predict(val)"
      ]
    },
    {
      "cell_type": "code",
      "execution_count": 40,
      "metadata": {},
      "outputs": [],
      "source": [
        "property = list(data[\"property_type\"].unique())"
      ]
    },
    {
      "cell_type": "code",
      "execution_count": 41,
      "metadata": {},
      "outputs": [
        {
          "data": {
            "text/plain": [
              "['Apartment',\n",
              " 'House',\n",
              " 'Condominium',\n",
              " 'Loft',\n",
              " 'Townhouse',\n",
              " 'Hostel',\n",
              " 'Guest suite',\n",
              " 'Bed & Breakfast',\n",
              " 'Bungalow',\n",
              " 'Guesthouse',\n",
              " 'Dorm',\n",
              " 'Other',\n",
              " 'Camper/RV',\n",
              " 'Villa',\n",
              " 'Boutique hotel',\n",
              " 'Timeshare',\n",
              " 'In-law',\n",
              " 'Boat',\n",
              " 'Cabin']"
            ]
          },
          "execution_count": 41,
          "metadata": {},
          "output_type": "execute_result"
        }
      ],
      "source": [
        "property"
      ]
    },
    {
      "cell_type": "code",
      "execution_count": 42,
      "metadata": {},
      "outputs": [
        {
          "name": "stdout",
          "output_type": "stream",
          "text": [
            "<option value=\"Apartment\">Apartment</option>\n",
            "<option value=\"House\">House</option>\n",
            "<option value=\"Condominium\">Condominium</option>\n",
            "<option value=\"Loft\">Loft</option>\n",
            "<option value=\"Townhouse\">Townhouse</option>\n",
            "<option value=\"Hostel\">Hostel</option>\n",
            "<option value=\"Guest suite\">Guest suite</option>\n",
            "<option value=\"Bed & Breakfast\">Bed & Breakfast</option>\n",
            "<option value=\"Bungalow\">Bungalow</option>\n",
            "<option value=\"Guesthouse\">Guesthouse</option>\n",
            "<option value=\"Dorm\">Dorm</option>\n",
            "<option value=\"Other\">Other</option>\n",
            "<option value=\"Camper/RV\">Camper/RV</option>\n",
            "<option value=\"Villa\">Villa</option>\n",
            "<option value=\"Boutique hotel\">Boutique hotel</option>\n",
            "<option value=\"Timeshare\">Timeshare</option>\n",
            "<option value=\"In-law\">In-law</option>\n",
            "<option value=\"Boat\">Boat</option>\n",
            "<option value=\"Cabin\">Cabin</option>\n"
          ]
        }
      ],
      "source": [
        "for ptype in property:\n",
        "    print(f\"\"\"<option value=\"{ptype}\">{ptype}</option>\"\"\")"
      ]
    },
    {
      "cell_type": "code",
      "execution_count": 43,
      "metadata": {},
      "outputs": [
        {
          "data": {
            "text/plain": [
              "19"
            ]
          },
          "execution_count": 43,
          "metadata": {},
          "output_type": "execute_result"
        }
      ],
      "source": [
        "len(property)"
      ]
    },
    {
      "cell_type": "code",
      "execution_count": 44,
      "metadata": {
        "colab": {
          "base_uri": "https://localhost:8080/"
        },
        "id": "fsz8LIAG9Iv0",
        "outputId": "4c7309bb-4c8e-427e-a079-f5e48dfc9bd1"
      },
      "outputs": [
        {
          "name": "stdout",
          "output_type": "stream",
          "text": [
            "7.8455067\n",
            "Predicted Price: $2554.23\n"
          ]
        }
      ],
      "source": [
        "def predict_price(city, property_type, room_type, accommodates, bed_type, beds, bedrooms, \n",
        "                  bathrooms, cancellation_policy, cleaning_fee, instant_bookable):\n",
        "    property_type_numeric = property_type_map.get(property_type, -1)\n",
        "    room_type_numeric = room_type_map.get(room_type, -1)\n",
        "    bed_type_numeric = bed_type_map.get(bed_type, -1)\n",
        "    cancellation_policy_numeric = cancellation_policy_map.get(cancellation_policy, -1)\n",
        "    city_numeric = city_map.get(city, -1)\n",
        "    instant_bookable_numeric = instant_bookable_map.get(instant_bookable, -1)\n",
        "\n",
        "    # Create a dictionary with the input features\n",
        "    input_data = {\n",
        "        'city': [city_numeric],\n",
        "        'property_type': [property_type_numeric],\n",
        "        'room_type': [room_type_numeric],\n",
        "        'accommodates': [accommodates],\n",
        "        'bed_type': [bed_type_numeric],\n",
        "        'beds': [beds],\n",
        "        'bedrooms': [bedrooms],\n",
        "        'bathrooms': [bathrooms],\n",
        "        'cancellation_policy': [cancellation_policy_numeric],\n",
        "        'cleaning_fee': [cleaning_fee],\n",
        "        'instant_bookable': [instant_bookable_numeric]\n",
        "    }\n",
        "\n",
        "    # Create a DataFrame from the input data\n",
        "    input_df = pd.DataFrame(input_data)\n",
        "\n",
        "    # Use the trained CatBoost model to make a price prediction\n",
        "    price_prediction = xg_boost.predict(input_df)\n",
        "    print(price_prediction[0])\n",
        "    return np.exp(price_prediction[0])\n",
        "\n",
        "# Example usage:\n",
        "predicted_price = predict_price(\n",
        "    city= 'Boston', property_type= 'Apartment', room_type= 'Shared room', accommodates= 7, bed_type= 'Real Bed', \n",
        "    beds=3, bedrooms=3,  bathrooms= 1, cancellation_policy= 'strict', cleaning_fee=True, instant_bookable=1)\n",
        "\n",
        "print(f'Predicted Price: ${predicted_price:.2f}')"
      ]
    }
  ],
  "metadata": {
    "colab": {
      "provenance": []
    },
    "kernelspec": {
      "display_name": "Python 3",
      "name": "python3"
    },
    "language_info": {
      "codemirror_mode": {
        "name": "ipython",
        "version": 3
      },
      "file_extension": ".py",
      "mimetype": "text/x-python",
      "name": "python",
      "nbconvert_exporter": "python",
      "pygments_lexer": "ipython3",
      "version": "3.12.0"
    }
  },
  "nbformat": 4,
  "nbformat_minor": 0
}
